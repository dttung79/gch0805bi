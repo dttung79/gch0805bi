{
 "cells": [
  {
   "cell_type": "code",
   "execution_count": 9,
   "metadata": {},
   "outputs": [
    {
     "name": "stdout",
     "output_type": "stream",
     "text": [
      "[70, -19, 121, -49, 120, -122, -86, -146, 85, 194, -77, -69, 157, -38, 69, 16, 57, 50, 143, -112, 185, -65, 122, 47, 151, -59, -84, -9, -102, 15, 40, 176, -71, 177, -123, -21, 129, 198, 175, -132, 196, -154, -130, -176, -106, 73, 148, 39, -162, -58]\n"
     ]
    }
   ],
   "source": [
    "import random as rd \n",
    "numbers = rd.sample(range(-200, 201), 50)\n",
    "print(numbers)"
   ]
  },
  {
   "cell_type": "code",
   "execution_count": 10,
   "metadata": {},
   "outputs": [
    {
     "name": "stdout",
     "output_type": "stream",
     "text": [
      "[70, 19, 121, 49, 120, 122, 86, 146, 85, 194, 77, 69, 157, 38, 69, 16, 57, 50, 143, 112, 185, 65, 122, 47, 151, 59, 84, 9, 102, 15, 40, 176, 71, 177, 123, 21, 129, 198, 175, 132, 196, 154, 130, 176, 106, 73, 148, 39, 162, 58]\n"
     ]
    }
   ],
   "source": [
    "positives = list(map(lambda n: -n if n < 0 else n, numbers))\n",
    "print(positives)"
   ]
  },
  {
   "cell_type": "code",
   "execution_count": 3,
   "metadata": {},
   "outputs": [],
   "source": [
    "def isPrime(n):\n",
    "    if n < 2: return False\n",
    "    if n == 2: return True\n",
    "    for i in range(3, n-1):\n",
    "        if n % i == 0: return False\n",
    "    return True"
   ]
  },
  {
   "cell_type": "code",
   "execution_count": 11,
   "metadata": {},
   "outputs": [
    {
     "name": "stdout",
     "output_type": "stream",
     "text": [
      "[157, 47, 151, 73]\n"
     ]
    }
   ],
   "source": [
    "primes = list(filter(isPrime, numbers))\n",
    "print(primes)"
   ]
  },
  {
   "cell_type": "code",
   "execution_count": 14,
   "metadata": {},
   "outputs": [
    {
     "name": "stdout",
     "output_type": "stream",
     "text": [
      "[157, 47, 151, 73]\n"
     ]
    }
   ],
   "source": [
    "primes = list(filter(lambda n: False if n < 2 else True if n == 2 else True if len([i for i in range(3, n-1) if n%i==0]) == 0 else False, numbers))\n",
    "print(primes)"
   ]
  },
  {
   "cell_type": "code",
   "execution_count": 12,
   "metadata": {},
   "outputs": [
    {
     "name": "stdout",
     "output_type": "stream",
     "text": [
      "157 : [157]\n",
      "47 : [47]\n",
      "151 : [151]\n",
      "73 : [146, 73]\n"
     ]
    }
   ],
   "source": [
    "for p in primes:\n",
    "    divisibles = list(filter(lambda n: True if n%p == 0 else False, positives))\n",
    "    print(p, ':', divisibles)"
   ]
  },
  {
   "cell_type": "code",
   "execution_count": null,
   "metadata": {},
   "outputs": [],
   "source": []
  }
 ],
 "metadata": {
  "interpreter": {
   "hash": "397704579725e15f5c7cb49fe5f0341eb7531c82d19f2c29d197e8b64ab5776b"
  },
  "kernelspec": {
   "display_name": "Python 3.9.1 64-bit",
   "name": "python3"
  },
  "language_info": {
   "codemirror_mode": {
    "name": "ipython",
    "version": 3
   },
   "file_extension": ".py",
   "mimetype": "text/x-python",
   "name": "python",
   "nbconvert_exporter": "python",
   "pygments_lexer": "ipython3",
   "version": "3.9.1"
  },
  "orig_nbformat": 4
 },
 "nbformat": 4,
 "nbformat_minor": 2
}
