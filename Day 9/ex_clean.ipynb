{
 "cells": [
  {
   "cell_type": "code",
   "execution_count": 1,
   "metadata": {},
   "outputs": [],
   "source": [
    "employees = [['John Lennon', '0989872728', 1500],\n",
    "             ['Mike Tyson', '02232abc33!#', 100],\n",
    "             ['', 'abcdef', 2500],\n",
    "             ['Yeren Jeager', '0999887766', 1000],\n",
    "             ['Yeren Jeager ABCDEFGHYJKLMNOPQRSTUV', '0999887766', 1200]]\n",
    "\n",
    "def printEmployees(employees):\n",
    "    for e in employees:\n",
    "        print('Name: {}, phone: {}, salary: {}'.format(e[0], e[1], e[2]))"
   ]
  },
  {
   "cell_type": "code",
   "execution_count": 2,
   "metadata": {},
   "outputs": [],
   "source": [
    "def cleanEmployees(employees, clean):\n",
    "    for e in employees:\n",
    "        clean(e)"
   ]
  },
  {
   "cell_type": "code",
   "execution_count": 3,
   "metadata": {},
   "outputs": [],
   "source": [
    "# Q.a\n",
    "def cleanEmptyName(emp):\n",
    "    if emp[0] == '':\n",
    "        emp[0] = 'John Doe'\n",
    "\n",
    "# Q.b\n",
    "def cleanLongName(emp):\n",
    "    if len(emp[0]) > 20:\n",
    "        emp[0] = emp[0][:20]\n",
    "\n",
    "# Q.c\n",
    "def cleanInvalidPhone(emp):\n",
    "    digits = '0123456789'\n",
    "    newPhone = ''.join([c if c in digits else '0' for c in emp[1]])\n",
    "# Q.e\n",
    "def cleanInvalidSalary(emp):\n",
    "    if emp[2] < 200: \n",
    "        emp[2] = 200\n",
    "    if emp[2] > 2000:\n",
    "        emp[2] = 2000"
   ]
  },
  {
   "cell_type": "code",
   "execution_count": null,
   "metadata": {},
   "outputs": [],
   "source": [
    "# Q.a\n",
    "cleanEmployees(employees, cleanEmptyName)\n",
    "cleanEmployees(employees, cleanLongName)\n",
    "cleanEmployees(employees, cleanInvalidSalary)\n",
    "printEmployees(employees)"
   ]
  }
 ],
 "metadata": {
  "interpreter": {
   "hash": "397704579725e15f5c7cb49fe5f0341eb7531c82d19f2c29d197e8b64ab5776b"
  },
  "kernelspec": {
   "display_name": "Python 3.9.1 64-bit",
   "name": "python3"
  },
  "language_info": {
   "codemirror_mode": {
    "name": "ipython",
    "version": 3
   },
   "file_extension": ".py",
   "mimetype": "text/x-python",
   "name": "python",
   "nbconvert_exporter": "python",
   "pygments_lexer": "ipython3",
   "version": "3.9.1"
  },
  "orig_nbformat": 4
 },
 "nbformat": 4,
 "nbformat_minor": 2
}
