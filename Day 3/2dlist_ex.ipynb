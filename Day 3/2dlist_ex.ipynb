{
 "cells": [
  {
   "cell_type": "code",
   "execution_count": 1,
   "source": [
    "import random as rd\n",
    "\n",
    "numbers = rd.sample(range(10, 100), 5)\n",
    "print(numbers)"
   ],
   "outputs": [
    {
     "output_type": "stream",
     "name": "stdout",
     "text": [
      "[75, 43, 32, 34, 18]\n"
     ]
    }
   ],
   "metadata": {}
  },
  {
   "cell_type": "code",
   "execution_count": 6,
   "source": [
    "matrix = [rd.sample(range(10, 100), 5),\n",
    "          rd.sample(range(10, 100), 5),\n",
    "          rd.sample(range(10, 100), 5),\n",
    "          rd.sample(range(10, 100), 5), \n",
    "          rd.sample(range(10, 100), 5)]\n",
    "print(matrix)"
   ],
   "outputs": [
    {
     "output_type": "stream",
     "name": "stdout",
     "text": [
      "[[12, 75, 11, 36, 98], [37, 29, 71, 68, 63], [30, 33, 67, 65, 13], [13, 39, 89, 85, 49], [92, 15, 55, 57, 27]]\n"
     ]
    }
   ],
   "metadata": {}
  },
  {
   "cell_type": "code",
   "execution_count": 7,
   "source": [
    "def print_matrix(m):\n",
    "    for row in m:\n",
    "        print(row)"
   ],
   "outputs": [],
   "metadata": {}
  },
  {
   "cell_type": "code",
   "execution_count": null,
   "source": [
    "print_matrix(matrix)"
   ],
   "outputs": [],
   "metadata": {}
  },
  {
   "cell_type": "code",
   "execution_count": null,
   "source": [
    "n = 3\n",
    "print('Min 3th:', min(matrix[n]), 'Max:', max(matrix[n]), 'Sum:', sum(matrix[n]))\n",
    "print(sorted(matrix[n]))\n",
    "print(sorted(matrix[n], reverse=True))\n",
    "print(matrix[n])\n",
    "matrix[n].sort()\n",
    "print(matrix[n])"
   ],
   "outputs": [],
   "metadata": {}
  },
  {
   "cell_type": "code",
   "execution_count": null,
   "source": [
    "print_matrix(matrix)"
   ],
   "outputs": [],
   "metadata": {}
  }
 ],
 "metadata": {
  "orig_nbformat": 4,
  "language_info": {
   "name": "python",
   "version": "3.9.1",
   "mimetype": "text/x-python",
   "codemirror_mode": {
    "name": "ipython",
    "version": 3
   },
   "pygments_lexer": "ipython3",
   "nbconvert_exporter": "python",
   "file_extension": ".py"
  },
  "kernelspec": {
   "name": "python3",
   "display_name": "Python 3.9.1 64-bit"
  },
  "interpreter": {
   "hash": "397704579725e15f5c7cb49fe5f0341eb7531c82d19f2c29d197e8b64ab5776b"
  }
 },
 "nbformat": 4,
 "nbformat_minor": 2
}