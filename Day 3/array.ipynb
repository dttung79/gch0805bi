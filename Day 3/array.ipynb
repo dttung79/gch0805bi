{
 "cells": [
  {
   "cell_type": "code",
   "execution_count": 2,
   "source": [
    "import numpy as np\n",
    "numbers = [1, 2, 3, 4]\n",
    "arr_numbers = np.array(numbers)\n",
    "print(numbers, arr_numbers, sep='\\n')"
   ],
   "outputs": [
    {
     "output_type": "stream",
     "name": "stdout",
     "text": [
      "[1, 2, 3, 4]\n",
      "[1 2 3 4]\n"
     ]
    }
   ],
   "metadata": {}
  },
  {
   "cell_type": "code",
   "execution_count": 9,
   "source": [
    "numbers = list(range(10, 20))\n",
    "print(numbers)\n",
    "arr_numbers = np.arange(10, 20)\n",
    "print(arr_numbers)\n",
    "arr_numbers = np.arange(10, 20, 2)\n",
    "print(arr_numbers)"
   ],
   "outputs": [
    {
     "output_type": "stream",
     "name": "stdout",
     "text": [
      "[10, 11, 12, 13, 14, 15, 16, 17, 18, 19]\n",
      "[10 11 12 13 14 15 16 17 18 19]\n",
      "[10 12 14 16 18]\n"
     ]
    }
   ],
   "metadata": {}
  },
  {
   "cell_type": "code",
   "execution_count": 17,
   "source": [
    "arr_numbers = np.linspace(0, 1, 10, endpoint=False)\n",
    "print(arr_numbers)\n",
    "arr_numbers = np.linspace(10, 20, 5, endpoint=False, dtype=int)\n",
    "print(arr_numbers)\n",
    "arr_numbers = np.linspace(11, 19, 5, dtype=int)\n",
    "print(arr_numbers)"
   ],
   "outputs": [
    {
     "output_type": "stream",
     "name": "stdout",
     "text": [
      "[0.  0.1 0.2 0.3 0.4 0.5 0.6 0.7 0.8 0.9]\n",
      "[10 12 14 16 18]\n",
      "[11 13 15 17 19]\n"
     ]
    }
   ],
   "metadata": {}
  },
  {
   "cell_type": "code",
   "execution_count": 20,
   "source": [
    "a = np.zeros(5)\n",
    "print(a)\n",
    "b = np.ones(10, dtype=int)\n",
    "print(b)\n",
    "c = b * 2\n",
    "print(c)"
   ],
   "outputs": [
    {
     "output_type": "stream",
     "name": "stdout",
     "text": [
      "[0. 0. 0. 0. 0.]\n",
      "[1 1 1 1 1 1 1 1 1 1]\n",
      "[2 2 2 2 2 2 2 2 2 2]\n"
     ]
    }
   ],
   "metadata": {}
  },
  {
   "cell_type": "code",
   "execution_count": 22,
   "source": [
    "b = [1, 1, 1, 1]\n",
    "c = b * 2\n",
    "ast = '*' * 10\n",
    "print(ast)\n",
    "print(c)"
   ],
   "outputs": [
    {
     "output_type": "stream",
     "name": "stdout",
     "text": [
      "**********\n",
      "[1, 1, 1, 1, 1, 1, 1, 1]\n"
     ]
    }
   ],
   "metadata": {}
  },
  {
   "cell_type": "code",
   "execution_count": 26,
   "source": [
    "a = np.linspace(0, 1, 10, endpoint=False)\n",
    "print(a)\n",
    "b = np.sin(a) + np.cos(a)\n",
    "print(b)\n",
    "c = b - a\n",
    "print(c)"
   ],
   "outputs": [
    {
     "output_type": "stream",
     "name": "stdout",
     "text": [
      "[0.  0.1 0.2 0.3 0.4 0.5 0.6 0.7 0.8 0.9]\n",
      "[1.         1.09483758 1.17873591 1.2508567  1.31047934 1.3570081\n",
      " 1.38997809 1.40905987 1.4140628  1.40493688]\n",
      "[1.         0.99483758 0.97873591 0.9508567  0.91047934 0.8570081\n",
      " 0.78997809 0.70905987 0.6140628  0.50493688]\n"
     ]
    }
   ],
   "metadata": {}
  }
 ],
 "metadata": {
  "orig_nbformat": 4,
  "language_info": {
   "name": "python",
   "version": "3.9.1",
   "mimetype": "text/x-python",
   "codemirror_mode": {
    "name": "ipython",
    "version": 3
   },
   "pygments_lexer": "ipython3",
   "nbconvert_exporter": "python",
   "file_extension": ".py"
  },
  "kernelspec": {
   "name": "python3",
   "display_name": "Python 3.9.1 64-bit"
  },
  "interpreter": {
   "hash": "397704579725e15f5c7cb49fe5f0341eb7531c82d19f2c29d197e8b64ab5776b"
  }
 },
 "nbformat": 4,
 "nbformat_minor": 2
}