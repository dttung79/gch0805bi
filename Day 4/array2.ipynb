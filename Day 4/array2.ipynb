{
 "cells": [
  {
   "cell_type": "code",
   "execution_count": 1,
   "source": [
    "import numpy as np"
   ],
   "outputs": [],
   "metadata": {}
  },
  {
   "cell_type": "code",
   "execution_count": 6,
   "source": [
    "numbers = np.random.randint(10, 100, 10)\n",
    "print(numbers)"
   ],
   "outputs": [
    {
     "output_type": "stream",
     "name": "stdout",
     "text": [
      "[27 34 62 77 33 98 37 70 14 83]\n"
     ]
    }
   ],
   "metadata": {}
  },
  {
   "cell_type": "code",
   "execution_count": 7,
   "source": [
    "b_index = numbers % 2 == 1 \n",
    "print(b_index)"
   ],
   "outputs": [
    {
     "output_type": "stream",
     "name": "stdout",
     "text": [
      "[ True False False  True  True False  True False False  True]\n"
     ]
    }
   ],
   "metadata": {}
  },
  {
   "cell_type": "code",
   "execution_count": 8,
   "source": [
    "odds = numbers[b_index]\n",
    "print(odds)"
   ],
   "outputs": [
    {
     "output_type": "stream",
     "name": "stdout",
     "text": [
      "[27 77 33 37 83]\n"
     ]
    }
   ],
   "metadata": {}
  },
  {
   "cell_type": "code",
   "execution_count": 9,
   "source": [
    "numbers[b_index] = 0\n",
    "print(numbers)"
   ],
   "outputs": [
    {
     "output_type": "stream",
     "name": "stdout",
     "text": [
      "[ 0 34 62  0  0 98  0 70 14  0]\n"
     ]
    }
   ],
   "metadata": {}
  },
  {
   "cell_type": "code",
   "execution_count": 10,
   "source": [
    "numbers = np.random.randint(-99, 100, 20)\n",
    "print(numbers)"
   ],
   "outputs": [
    {
     "output_type": "stream",
     "name": "stdout",
     "text": [
      "[ 53  70  80  62 -84  54 -94 -42  61  79  53  34 -98  69 -76  14  69  34\n",
      "  91 -78]\n"
     ]
    }
   ],
   "metadata": {}
  },
  {
   "cell_type": "code",
   "execution_count": 14,
   "source": [
    "# 1. Lọc ra những số dương\n",
    "positives = numbers[numbers > 0]\n",
    "print(positives)\n",
    "# 2. Lọc ra những số âm\n",
    "negatives = numbers[numbers < 0]\n",
    "print(negatives)\n",
    "# 3. Đổi số âm thành số dương\n",
    "pos_nums = negatives * -1\n",
    "print(pos_nums)\n",
    "print(numbers)\n",
    "numbers[numbers < 0] *= -1\n",
    "# a =  a * -1 => a *= -1\n",
    "# numbers[numbers < 0] = numbers[numbers < 0] * -1\n",
    "print(numbers)\n",
    "# Old style\n",
    "for n in numbers:\n",
    "    if n < 0:\n",
    "        n += -1"
   ],
   "outputs": [
    {
     "output_type": "stream",
     "name": "stdout",
     "text": [
      "[53 70 80 62 54 61 79 53 34 69 14 69 34 91]\n",
      "[-84 -94 -42 -98 -76 -78]\n",
      "[84 94 42 98 76 78]\n",
      "[ 53  70  80  62 -84  54 -94 -42  61  79  53  34 -98  69 -76  14  69  34\n",
      "  91 -78]\n",
      "[53 70 80 62 84 54 94 42 61 79 53 34 98 69 76 14 69 34 91 78]\n"
     ]
    }
   ],
   "metadata": {}
  },
  {
   "cell_type": "code",
   "execution_count": 17,
   "source": [
    "a = int(input('Enter a: '))\n",
    "b = int(input('Enter b:'))\n",
    "# Old style\n",
    "if a > b:\n",
    "    max2so = a\n",
    "else:\n",
    "    max2so = b\n",
    "print(max2so)"
   ],
   "outputs": [
    {
     "output_type": "stream",
     "name": "stdout",
     "text": [
      "8\n"
     ]
    }
   ],
   "metadata": {}
  },
  {
   "cell_type": "code",
   "execution_count": 19,
   "source": [
    "max2so = a if a > b else b\n",
    "print(max2so)\n",
    "print('Max 2 so:', a if a > b else b)"
   ],
   "outputs": [
    {
     "output_type": "stream",
     "name": "stdout",
     "text": [
      "8\n",
      "Max 2 so: 8\n"
     ]
    }
   ],
   "metadata": {}
  }
 ],
 "metadata": {
  "orig_nbformat": 4,
  "language_info": {
   "name": "python",
   "version": "3.9.1",
   "mimetype": "text/x-python",
   "codemirror_mode": {
    "name": "ipython",
    "version": 3
   },
   "pygments_lexer": "ipython3",
   "nbconvert_exporter": "python",
   "file_extension": ".py"
  },
  "kernelspec": {
   "name": "python3",
   "display_name": "Python 3.9.1 64-bit"
  },
  "interpreter": {
   "hash": "397704579725e15f5c7cb49fe5f0341eb7531c82d19f2c29d197e8b64ab5776b"
  }
 },
 "nbformat": 4,
 "nbformat_minor": 2
}