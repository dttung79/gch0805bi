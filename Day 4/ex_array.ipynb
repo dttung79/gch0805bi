{
 "cells": [
  {
   "cell_type": "code",
   "execution_count": null,
   "source": [
    "import numpy as np\n",
    "y = np.array([0., 1.3, 5. , 10.9, 18.9, 28.7, 40.])\n",
    "t = np.array([0., 0.49, 1. , 1.5 , 2.08, 2.55, 3.2])\n",
    "\n",
    "v = (y[1:] - y[:-1]) / (t[1:] - t[:-1])"
   ],
   "outputs": [],
   "metadata": {}
  },
  {
   "cell_type": "code",
   "execution_count": 7,
   "source": [
    "def print_vector(a):\n",
    "    for n in a:\n",
    "        print('{0:6.2f}'.format(n), end=' ')\n",
    "    print()"
   ],
   "outputs": [],
   "metadata": {}
  },
  {
   "cell_type": "code",
   "execution_count": 9,
   "source": [
    "print_vector(y)\n",
    "print_vector(t)\n",
    "print(' ' * 7, end='')\n",
    "print_vector(v)"
   ],
   "outputs": [
    {
     "output_type": "stream",
     "name": "stdout",
     "text": [
      "  0.00   1.30   5.00  10.90  18.90  28.70  40.00 \n",
      "  0.00   0.49   1.00   1.50   2.08   2.55   3.20 \n",
      "         2.65   7.25  11.80  13.79  20.85  17.38 \n"
     ]
    }
   ],
   "metadata": {}
  }
 ],
 "metadata": {
  "orig_nbformat": 4,
  "language_info": {
   "name": "python",
   "version": "3.9.1",
   "mimetype": "text/x-python",
   "codemirror_mode": {
    "name": "ipython",
    "version": 3
   },
   "pygments_lexer": "ipython3",
   "nbconvert_exporter": "python",
   "file_extension": ".py"
  },
  "kernelspec": {
   "name": "python3",
   "display_name": "Python 3.9.1 64-bit"
  },
  "interpreter": {
   "hash": "397704579725e15f5c7cb49fe5f0341eb7531c82d19f2c29d197e8b64ab5776b"
  }
 },
 "nbformat": 4,
 "nbformat_minor": 2
}