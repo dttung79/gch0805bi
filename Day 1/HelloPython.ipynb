{
 "cells": [
  {
   "cell_type": "code",
   "execution_count": 1,
   "source": [
    "a = 5\n",
    "print(a, type(a))"
   ],
   "outputs": [
    {
     "output_type": "stream",
     "name": "stdout",
     "text": [
      "5 <class 'int'>\n"
     ]
    }
   ],
   "metadata": {}
  },
  {
   "cell_type": "code",
   "execution_count": 2,
   "source": [
    "a = '5'\n",
    "print(a, type(a))\n",
    "a = 5.0\n",
    "print(a, type(a))"
   ],
   "outputs": [
    {
     "output_type": "stream",
     "name": "stdout",
     "text": [
      "5 <class 'str'>\n",
      "5.0 <class 'float'>\n"
     ]
    }
   ],
   "metadata": {}
  },
  {
   "cell_type": "code",
   "execution_count": 5,
   "source": [
    "msg = input('Enter a message:')\n",
    "print(msg)"
   ],
   "outputs": [
    {
     "output_type": "stream",
     "name": "stdout",
     "text": [
      "hello\n"
     ]
    }
   ],
   "metadata": {}
  },
  {
   "cell_type": "code",
   "execution_count": 9,
   "source": [
    "a = int(input('Enter a number:'))\n",
    "print(a, msg)"
   ],
   "outputs": [
    {
     "output_type": "stream",
     "name": "stdout",
     "text": [
      "5 hello\n"
     ]
    }
   ],
   "metadata": {}
  },
  {
   "cell_type": "code",
   "execution_count": 20,
   "source": [
    "# print(a, msg, sep='++++++')\n",
    "print('|{0:10d}|\\n|{1:10s}|'.format(a, msg))\n",
    "print('|{0:10d}|\\n|{1:>10s}|'.format(a, msg))\n",
    "print('|{0:<10d}|\\n|{1:<10s}|'.format(a, msg))\n",
    "print('|{0:^10d}|\\n|{1:^20s}|'.format(a, msg))"
   ],
   "outputs": [
    {
     "output_type": "stream",
     "name": "stdout",
     "text": [
      "|         5|\n",
      "|hello     |\n",
      "|         5|\n",
      "|     hello|\n",
      "|5         |\n",
      "|hello     |\n",
      "|    5     |\n",
      "|       hello        |\n"
     ]
    }
   ],
   "metadata": {}
  },
  {
   "cell_type": "code",
   "execution_count": 26,
   "source": [
    "b = 10.528\n",
    "print('0'*10)\n",
    "print('{0:10.2f}'.format(b))"
   ],
   "outputs": [
    {
     "output_type": "stream",
     "name": "stdout",
     "text": [
      "0000000000\n",
      "     10.53\n"
     ]
    }
   ],
   "metadata": {}
  },
  {
   "cell_type": "code",
   "execution_count": 29,
   "source": [
    "a = int(input('Enter a: '))\n",
    "b = int(input('Enter b: '))\n",
    "if a > b:\n",
    "    print('Max =', a)\n",
    "else:\n",
    "    print('Max =', b)"
   ],
   "outputs": [
    {
     "output_type": "stream",
     "name": "stdout",
     "text": [
      "Max = 5\n"
     ]
    }
   ],
   "metadata": {}
  },
  {
   "cell_type": "code",
   "execution_count": 33,
   "source": [
    "grade = float(input('Enter grade: '))\n",
    "if grade < 5:\n",
    "    print('Failed')\n",
    "elif grade < 7:\n",
    "    print('Pass')\n",
    "elif grade < 9:\n",
    "    print('Merit')\n",
    "else:\n",
    "    print('Distinction')"
   ],
   "outputs": [
    {
     "output_type": "stream",
     "name": "stdout",
     "text": [
      "Merit\n"
     ]
    }
   ],
   "metadata": {}
  },
  {
   "cell_type": "code",
   "execution_count": 38,
   "source": [
    "positive = False\n",
    "while not positive:\n",
    "    a = int(input('Enter a positive number:'))\n",
    "    if a <= 0:\n",
    "        print('Invalid! Enter again!')\n",
    "    else:\n",
    "        positive = True\n",
    "print('Your number:', a)"
   ],
   "outputs": [
    {
     "output_type": "stream",
     "name": "stdout",
     "text": [
      "Invalid! Enter again!\n",
      "Invalid! Enter again!\n",
      "Your number: 9\n"
     ]
    }
   ],
   "metadata": {}
  },
  {
   "cell_type": "markdown",
   "source": [
    "Bài tập:\n",
    "Nhập vào các thông tin: số dư (balance), lãi suất (rate), số năm (years), tính cả vốn và lãi\n",
    "Công thức: total = balance * [(1 + rate)^years]\n",
    "Y/c: Kiểm tra số dư, lãi suất, số năm > 0, lãi suất <= 1"
   ],
   "metadata": {}
  },
  {
   "cell_type": "markdown",
   "source": [
    "A theater owner agrees to donate a portion of gross ticket sales to a charity\n",
    " The program will prompt the user to input:\n",
    " Movie name\n",
    " Adult ticket price\n",
    " Child ticket price\n",
    " Number of adult tickets sold\n",
    " Number of child tickets sold\n",
    " Percentage of gross amount to be donated\n",
    "Inputs: movie name, adult and child ticket price, # adult and child tickets sold, and percentage of the gross to be donated\n",
    "\n"
   ],
   "metadata": {}
  }
 ],
 "metadata": {
  "orig_nbformat": 4,
  "language_info": {
   "name": "python",
   "version": "3.9.1",
   "mimetype": "text/x-python",
   "codemirror_mode": {
    "name": "ipython",
    "version": 3
   },
   "pygments_lexer": "ipython3",
   "nbconvert_exporter": "python",
   "file_extension": ".py"
  },
  "kernelspec": {
   "name": "python3",
   "display_name": "Python 3.9.1 64-bit"
  },
  "interpreter": {
   "hash": "397704579725e15f5c7cb49fe5f0341eb7531c82d19f2c29d197e8b64ab5776b"
  }
 },
 "nbformat": 4,
 "nbformat_minor": 2
}