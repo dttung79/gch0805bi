{
 "cells": [
  {
   "cell_type": "code",
   "execution_count": 1,
   "source": [
    "rooms = {'Emma':309, 'John':402, 'McTom':435, 'Linda':309}\n",
    "print(rooms)"
   ],
   "outputs": [
    {
     "output_type": "stream",
     "name": "stdout",
     "text": [
      "{'Emma': 309, 'John': 402, 'McTom': 435, 'Linda': 309}\n"
     ]
    }
   ],
   "metadata": {}
  },
  {
   "cell_type": "code",
   "execution_count": null,
   "source": [
    "name = input('Enter name:')\n",
    "if name in rooms.keys():\n",
    "    print('Room: ', rooms[name])\n",
    "else:\n",
    "    print('Name', name, 'not found!')"
   ],
   "outputs": [],
   "metadata": {}
  },
  {
   "cell_type": "code",
   "execution_count": null,
   "source": [
    "print(rooms.keys())\n",
    "print(rooms.values())\n",
    "names = list(rooms.keys())\n",
    "print(names)\n",
    "room_numbers = list(rooms.values())\n",
    "print(room_numbers)"
   ],
   "outputs": [],
   "metadata": {}
  },
  {
   "cell_type": "code",
   "execution_count": 16,
   "source": [
    "roomNo = int(input('Enter room number: '))\n",
    "found = False\n",
    "for n, r in rooms.items():\n",
    "    if roomNo == r:\n",
    "        found = True\n",
    "        print(n)\n",
    "if found == False:\n",
    "    print('No people in room', roomNo)"
   ],
   "outputs": [
    {
     "output_type": "stream",
     "name": "stdout",
     "text": [
      "McTom\n"
     ]
    }
   ],
   "metadata": {}
  },
  {
   "cell_type": "code",
   "execution_count": 20,
   "source": [
    "roomNo = int(input('Enter room number: '))\n",
    "people = [name for name, room in rooms.items() if room == roomNo]\n",
    "print(people if len(people) != 0 else 'No people in room')"
   ],
   "outputs": [
    {
     "output_type": "stream",
     "name": "stdout",
     "text": [
      "['McTom']\n"
     ]
    }
   ],
   "metadata": {}
  },
  {
   "cell_type": "code",
   "execution_count": 21,
   "source": [
    "print(rooms.items())"
   ],
   "outputs": [
    {
     "output_type": "stream",
     "name": "stdout",
     "text": [
      "dict_items([('Emma', 309), ('John', 402), ('McTom', 435), ('Linda', 309)])\n"
     ]
    }
   ],
   "metadata": {}
  },
  {
   "cell_type": "code",
   "execution_count": 25,
   "source": [
    "print('Change room')\n",
    "name = input('Enter name: ')\n",
    "if name in rooms.keys():\n",
    "    room = input('Enter room to change: ')\n",
    "    rooms[name] = room\n",
    "    print(rooms)\n",
    "else:\n",
    "    print(name, 'not found!')"
   ],
   "outputs": [
    {
     "output_type": "stream",
     "name": "stdout",
     "text": [
      "Change room\n",
      "Paul not found!\n"
     ]
    }
   ],
   "metadata": {}
  },
  {
   "cell_type": "code",
   "execution_count": 27,
   "source": [
    "print('New guest')\n",
    "name = input('Enter name: ')\n",
    "if name in rooms.keys():\n",
    "    print(name, ' exist!')\n",
    "else:\n",
    "    room = input('Enter room to change: ')\n",
    "    rooms[name] = room\n",
    "    print(rooms) "
   ],
   "outputs": [
    {
     "output_type": "stream",
     "name": "stdout",
     "text": [
      "New guest\n",
      "{'Emma': 309, 'John': '410', 'McTom': 435, 'Linda': 309, 'Mike': '450', 'Paul': '509'}\n"
     ]
    }
   ],
   "metadata": {}
  },
  {
   "cell_type": "code",
   "execution_count": 30,
   "source": [
    "print('Guest check out')\n",
    "name = input('Enter name: ')\n",
    "if name in rooms.keys():\n",
    "    rooms.pop(name)\n",
    "else:\n",
    "    print('Guest', name, 'not found!')"
   ],
   "outputs": [
    {
     "output_type": "stream",
     "name": "stdout",
     "text": [
      "Guest check out\n",
      "Guest abc not found!\n"
     ]
    }
   ],
   "metadata": {}
  },
  {
   "cell_type": "code",
   "execution_count": 29,
   "source": [
    "print(rooms)"
   ],
   "outputs": [
    {
     "output_type": "stream",
     "name": "stdout",
     "text": [
      "{'Emma': 309, 'John': '410', 'McTom': 435, 'Mike': '450', 'Paul': '509'}\n"
     ]
    }
   ],
   "metadata": {}
  }
 ],
 "metadata": {
  "orig_nbformat": 4,
  "language_info": {
   "name": "python",
   "version": "3.9.1",
   "mimetype": "text/x-python",
   "codemirror_mode": {
    "name": "ipython",
    "version": 3
   },
   "pygments_lexer": "ipython3",
   "nbconvert_exporter": "python",
   "file_extension": ".py"
  },
  "kernelspec": {
   "name": "python3",
   "display_name": "Python 3.9.1 64-bit"
  },
  "interpreter": {
   "hash": "397704579725e15f5c7cb49fe5f0341eb7531c82d19f2c29d197e8b64ab5776b"
  }
 },
 "nbformat": 4,
 "nbformat_minor": 2
}