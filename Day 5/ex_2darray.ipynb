{
 "cells": [
  {
   "cell_type": "code",
   "execution_count": 3,
   "source": [
    "import numpy as np"
   ],
   "outputs": [],
   "metadata": {}
  },
  {
   "cell_type": "code",
   "execution_count": null,
   "source": [
    "a = np.ones(64, dtype=int)\n",
    "a = np.reshape(a, (8, 8))\n",
    "a[1:-1, 1:-1] = 0\n",
    "print(a)"
   ],
   "outputs": [],
   "metadata": {}
  },
  {
   "cell_type": "code",
   "execution_count": null,
   "source": [
    "a = np.reshape(np.zeros(64, dtype=int), (8, 8))\n",
    "a[0, :] = 1\n",
    "a[-1, :] = 1\n",
    "a[:, 0] = 1\n",
    "a[:, -1] = 1\n",
    "print(a)"
   ],
   "outputs": [],
   "metadata": {}
  },
  {
   "cell_type": "code",
   "execution_count": 10,
   "source": [
    "a = np.array([1, 2, 3, 4, 5, 6])\n",
    "b = a[0::2]\n",
    "c = a[1::2]\n",
    "a[::2] = 0\n",
    "print(b, c, a)"
   ],
   "outputs": [
    {
     "output_type": "stream",
     "name": "stdout",
     "text": [
      "[0 0 0] [2 4 6] [0 2 0 4 0 6]\n"
     ]
    }
   ],
   "metadata": {}
  },
  {
   "cell_type": "code",
   "execution_count": 13,
   "source": [
    "# Question b\n",
    "b = np.reshape(np.ones(64, dtype=int), (8, 8))\n",
    "b[::2, 1::2] = 0\n",
    "b[1::2, ::2] = 0\n",
    "print(b)"
   ],
   "outputs": [
    {
     "output_type": "stream",
     "name": "stdout",
     "text": [
      "[[1 0 1 0 1 0 1 0]\n",
      " [0 1 0 1 0 1 0 1]\n",
      " [1 0 1 0 1 0 1 0]\n",
      " [0 1 0 1 0 1 0 1]\n",
      " [1 0 1 0 1 0 1 0]\n",
      " [0 1 0 1 0 1 0 1]\n",
      " [1 0 1 0 1 0 1 0]\n",
      " [0 1 0 1 0 1 0 1]]\n"
     ]
    }
   ],
   "metadata": {}
  },
  {
   "cell_type": "code",
   "execution_count": 16,
   "source": [
    "# Question c\n",
    "c = np.reshape(np.random.randint(10, 100, 64, dtype=int), (8, 8))\n",
    "c[c%3!=0] = c[c%3!=0] * -1\n",
    "print(c)"
   ],
   "outputs": [
    {
     "output_type": "stream",
     "name": "stdout",
     "text": [
      "[[ 87  24 -65  48  30  12 -40 -52]\n",
      " [ 42 -46 -67 -23 -88 -76 -88  12]\n",
      " [-88 -67 -20 -47 -53 -25 -44 -98]\n",
      " [-41 -98 -88 -26 -97 -74  78 -25]\n",
      " [ 57 -25 -59  48 -97 -44 -43 -64]\n",
      " [-77 -55  81 -61  21 -64  75 -74]\n",
      " [-34 -80 -56 -59  72 -11 -58  30]\n",
      " [-14  87 -77 -32 -58  42  84 -50]]\n"
     ]
    }
   ],
   "metadata": {}
  }
 ],
 "metadata": {
  "orig_nbformat": 4,
  "language_info": {
   "name": "python",
   "version": "3.9.1",
   "mimetype": "text/x-python",
   "codemirror_mode": {
    "name": "ipython",
    "version": 3
   },
   "pygments_lexer": "ipython3",
   "nbconvert_exporter": "python",
   "file_extension": ".py"
  },
  "kernelspec": {
   "name": "python3",
   "display_name": "Python 3.9.1 64-bit"
  },
  "interpreter": {
   "hash": "397704579725e15f5c7cb49fe5f0341eb7531c82d19f2c29d197e8b64ab5776b"
  }
 },
 "nbformat": 4,
 "nbformat_minor": 2
}