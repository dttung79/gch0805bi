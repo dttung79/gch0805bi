{
 "cells": [
  {
   "cell_type": "code",
   "execution_count": 21,
   "metadata": {},
   "outputs": [],
   "source": [
    "import csv"
   ]
  },
  {
   "cell_type": "code",
   "execution_count": 22,
   "metadata": {},
   "outputs": [],
   "source": [
    "f = open('gradebook.csv', 'r')\n",
    "grades = []\n",
    "for row in csv.reader(f, delimiter=','):\n",
    "    grades.append(row)"
   ]
  },
  {
   "cell_type": "code",
   "execution_count": 23,
   "metadata": {},
   "outputs": [
    {
     "name": "stdout",
     "output_type": "stream",
     "text": [
      "[['Login', 'Email', 'Code', 'Name', 'Grade'], ['huonglmgbh17538', 'huonglmgbh17538@fpt.edu.vn', 'GBH17538', 'Le Minh Huong', '6.5'], ['nambpgch16025', 'nambpgch16025@fpt.edu.vn', 'GCH16025', 'Bui Phuong Nam', '4.0'], ['datntgch16336', 'datntgch16336@fpt.edu.vn', 'GCH16336', 'Nguyen The Dat', '5.5'], ['thangpmgch16388', 'thangpmgch16388@fpt.edu.vn', 'GCH16388', 'Pham Minh Thang', '6.5'], ['tungddgch16573', 'tungddgch16573@fpt.edu.vn', 'GCH16573', 'Do Duy Tung', '7.0']]\n"
     ]
    }
   ],
   "source": [
    "print(grades)"
   ]
  },
  {
   "cell_type": "code",
   "execution_count": 24,
   "metadata": {},
   "outputs": [
    {
     "name": "stdout",
     "output_type": "stream",
     "text": [
      "[['huonglmgbh17538', 'huonglmgbh17538@fpt.edu.vn', 'GBH17538', 'Le Minh Huong', '6.5'], ['nambpgch16025', 'nambpgch16025@fpt.edu.vn', 'GCH16025', 'Bui Phuong Nam', '4.0'], ['datntgch16336', 'datntgch16336@fpt.edu.vn', 'GCH16336', 'Nguyen The Dat', '5.5'], ['thangpmgch16388', 'thangpmgch16388@fpt.edu.vn', 'GCH16388', 'Pham Minh Thang', '6.5'], ['tungddgch16573', 'tungddgch16573@fpt.edu.vn', 'GCH16573', 'Do Duy Tung', '7.0']]\n"
     ]
    }
   ],
   "source": [
    "header = grades[0]\n",
    "grades = grades[1:]\n",
    "print(grades)"
   ]
  },
  {
   "cell_type": "code",
   "execution_count": null,
   "metadata": {},
   "outputs": [],
   "source": []
  },
  {
   "cell_type": "code",
   "execution_count": 25,
   "metadata": {},
   "outputs": [
    {
     "name": "stdout",
     "output_type": "stream",
     "text": [
      "[['huonglmgbh17538', 'huonglmgbh17538@fpt.edu.vn', 'GBH17538', 'Le Minh Huong', 6.5], ['nambpgch16025', 'nambpgch16025@fpt.edu.vn', 'GCH16025', 'Bui Phuong Nam', 4.0], ['datntgch16336', 'datntgch16336@fpt.edu.vn', 'GCH16336', 'Nguyen The Dat', 5.5], ['thangpmgch16388', 'thangpmgch16388@fpt.edu.vn', 'GCH16388', 'Pham Minh Thang', 6.5], ['tungddgch16573', 'tungddgch16573@fpt.edu.vn', 'GCH16573', 'Do Duy Tung', 7.0]]\n"
     ]
    }
   ],
   "source": [
    "for row in grades:\n",
    "    row[4] = float(row[4])\n",
    "print(grades)"
   ]
  },
  {
   "cell_type": "code",
   "execution_count": 26,
   "metadata": {},
   "outputs": [
    {
     "name": "stdout",
     "output_type": "stream",
     "text": [
      "[['huonglmgbh17538', 'huonglmgbh17538@fpt.edu.vn', 'GBH17538', 'Le Minh Huong', 6.5], ['thangpmgch16388', 'thangpmgch16388@fpt.edu.vn', 'GCH16388', 'Pham Minh Thang', 6.5], ['tungddgch16573', 'tungddgch16573@fpt.edu.vn', 'GCH16573', 'Do Duy Tung', 7.0]]\n"
     ]
    }
   ],
   "source": [
    "pass_students = [row for row in grades if row[4] >= 6.5]\n",
    "print(pass_students)"
   ]
  },
  {
   "cell_type": "code",
   "execution_count": 27,
   "metadata": {},
   "outputs": [
    {
     "name": "stdout",
     "output_type": "stream",
     "text": [
      "[['Login', 'Email', 'Code', 'Name', 'Grade'], ['huonglmgbh17538', 'huonglmgbh17538@fpt.edu.vn', 'GBH17538', 'Le Minh Huong', 6.5], ['thangpmgch16388', 'thangpmgch16388@fpt.edu.vn', 'GCH16388', 'Pham Minh Thang', 6.5], ['tungddgch16573', 'tungddgch16573@fpt.edu.vn', 'GCH16573', 'Do Duy Tung', 7.0]]\n"
     ]
    }
   ],
   "source": [
    "new_grades = [header] + pass_students\n",
    "print(new_grades)"
   ]
  },
  {
   "cell_type": "code",
   "execution_count": 36,
   "metadata": {},
   "outputs": [],
   "source": [
    "\n",
    "f = open('new_grades.csv', 'w')\n",
    "for row in new_grades:\n",
    "    f.write(','.join(map(str, row)) + '\\n')\n",
    "\n",
    "f.close()"
   ]
  },
  {
   "cell_type": "code",
   "execution_count": 34,
   "metadata": {},
   "outputs": [
    {
     "name": "stdout",
     "output_type": "stream",
     "text": [
      "a,b,4\n"
     ]
    }
   ],
   "source": [
    "mylist = ['a', 'b', 4]\n",
    "s = ','.join(map(str, mylist))\n",
    "print(s)"
   ]
  }
 ],
 "metadata": {
  "interpreter": {
   "hash": "397704579725e15f5c7cb49fe5f0341eb7531c82d19f2c29d197e8b64ab5776b"
  },
  "kernelspec": {
   "display_name": "Python 3.9.1 64-bit",
   "name": "python3"
  },
  "language_info": {
   "codemirror_mode": {
    "name": "ipython",
    "version": 3
   },
   "file_extension": ".py",
   "mimetype": "text/x-python",
   "name": "python",
   "nbconvert_exporter": "python",
   "pygments_lexer": "ipython3",
   "version": "3.9.1"
  },
  "orig_nbformat": 4
 },
 "nbformat": 4,
 "nbformat_minor": 2
}
