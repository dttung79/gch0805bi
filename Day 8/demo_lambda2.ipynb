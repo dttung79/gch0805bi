{
 "cells": [
  {
   "cell_type": "code",
   "execution_count": 1,
   "metadata": {},
   "outputs": [
    {
     "name": "stdout",
     "output_type": "stream",
     "text": [
      "[-27, 34, -6, 64, -79, -25, 74, -23, 66, 39, 87, 37, 84, 16, -59, 38, -90, -75, 77, 10]\n"
     ]
    }
   ],
   "source": [
    "import random as rd\n",
    "numbers = rd.sample(range(-99, 100), 20)\n",
    "print(numbers)"
   ]
  },
  {
   "cell_type": "code",
   "execution_count": 5,
   "metadata": {},
   "outputs": [
    {
     "name": "stdout",
     "output_type": "stream",
     "text": [
      "Min absolute: -6\n",
      "Max of last digits: -79\n"
     ]
    }
   ],
   "source": [
    "# Find number which has min absolute\n",
    "print('Min absolute:', min(numbers, key=lambda a: a if a > 0 else -a))\n",
    "# Find number which has last digit max\n",
    "print('Max of last digits:', max(numbers, key=lambda n: n%10 if n > 0 else -n % 10))"
   ]
  },
  {
   "cell_type": "code",
   "execution_count": 8,
   "metadata": {},
   "outputs": [
    {
     "name": "stdout",
     "output_type": "stream",
     "text": [
      "[-90, -79, -75, -59, -27, -25, -23, -6, 10, 16, 34, 37, 38, 39, 64, 66, 74, 77, 84, 87]\n",
      "Sort by absolute: [-6, 10, 16, -23, -25, -27, 34, 37, 38, 39, -59, 64, 66, 74, -75, 77, -79, 84, 87, -90]\n",
      "Sort by last digit: [-90, 10, -23, 34, 64, 74, 84, -25, -75, -6, 66, 16, -27, 87, 37, 77, 38, -79, 39, -59]\n"
     ]
    }
   ],
   "source": [
    "# Sort ascending by values\n",
    "print(sorted(numbers))\n",
    "# Sort ascending by absolute\n",
    "print('Sort by absolute:', sorted(numbers, key=lambda n: n if n > 0 else -n))\n",
    "# Sort ascending by last digit\n",
    "print('Sort by last digit:', sorted(numbers, key=lambda n: n%10 if n > 0 else -n%10))\n"
   ]
  },
  {
   "cell_type": "code",
   "execution_count": 9,
   "metadata": {},
   "outputs": [
    {
     "name": "stdout",
     "output_type": "stream",
     "text": [
      "[34, 64, 74, 66, 39, 87, 37, 84, 16, 38, 77, 10]\n"
     ]
    }
   ],
   "source": [
    "# Function filter\n",
    "positives = [n for n in numbers if n > 0]\n",
    "print(positives)"
   ]
  },
  {
   "cell_type": "code",
   "execution_count": 11,
   "metadata": {},
   "outputs": [
    {
     "name": "stdout",
     "output_type": "stream",
     "text": [
      "[34, 64, 74, 66, 39, 87, 37, 84, 16, 38, 77, 10]\n",
      "[-27, -6, -79, -25, -23, -59, -90, -75]\n"
     ]
    }
   ],
   "source": [
    "print(list(filter(lambda a: a>0, numbers)))\n",
    "print(list(filter(lambda a: a<0, numbers)))"
   ]
  },
  {
   "cell_type": "code",
   "execution_count": 19,
   "metadata": {},
   "outputs": [
    {
     "name": "stdout",
     "output_type": "stream",
     "text": [
      "[-27, 34, -6, 64, -79, -25, 74, -23, 66, 39, 87, 37, 84, 16, -59, 38, -90, -75, 77, 10]\n",
      "[34, 39, 37, 38]\n",
      "[34, 39, 37, 38]\n"
     ]
    }
   ],
   "source": [
    "print(numbers)\n",
    "# a. Find numbers which has first digit = 3\n",
    "print(list(filter(lambda n: n//10 == 3 if n >= 0 else -n//10 == 3, numbers)))\n",
    "print(list(filter(lambda a: 40>a>=30 or -39<=a<=-30, numbers)))"
   ]
  },
  {
   "cell_type": "code",
   "execution_count": 21,
   "metadata": {},
   "outputs": [
    {
     "name": "stdout",
     "output_type": "stream",
     "text": [
      "['Le Hoang Mai Linh', 'Le Thanh Hai']\n"
     ]
    }
   ],
   "source": [
    "names = ['Le Hoang Mai Linh', 'Pham Trung Tuyen', 'Le Thanh Hai', 'Nguyen Viet Ha', 'Duong Minh Duc']\n",
    "# b. Find name which has last name 'Le'\n",
    "print(list(filter(lambda n: n.split(' ')[0] == 'Le', names)))"
   ]
  },
  {
   "cell_type": "code",
   "execution_count": 22,
   "metadata": {},
   "outputs": [
    {
     "name": "stdout",
     "output_type": "stream",
     "text": [
      "<filter object at 0x1074519a0>\n"
     ]
    }
   ],
   "source": [
    "print(filter(lambda n: n.split(' ')[0] == 'Le', names))"
   ]
  },
  {
   "cell_type": "code",
   "execution_count": 24,
   "metadata": {},
   "outputs": [
    {
     "name": "stdout",
     "output_type": "stream",
     "text": [
      "[2, 4, 6, 8]\n",
      "[4, 8, 12, 16]\n"
     ]
    }
   ],
   "source": [
    "# map function\n",
    "numbers = [1, 2, 3, 4]\n",
    "numbers = [n*2 for n in numbers]\n",
    "print(numbers)\n",
    "numbers = list(map(lambda n: n*2, numbers))\n",
    "print(numbers)"
   ]
  },
  {
   "cell_type": "code",
   "execution_count": 26,
   "metadata": {},
   "outputs": [
    {
     "name": "stdout",
     "output_type": "stream",
     "text": [
      "[19, 29, 48, 31, 13, 24, -87, -41, -88, -37, 21, -78, -3, -81, 73, 47, 79, -12, 30, -89]\n",
      "[-19, -29, -48, -31, -13, -24, 87, 41, 88, 37, -21, 78, 3, 81, -73, -47, -79, 12, -30, 89]\n"
     ]
    }
   ],
   "source": [
    "numbers = rd.sample(range(-99, 100), 20)\n",
    "print(numbers)\n",
    "numbers = list(map(lambda n: -n, numbers))\n",
    "print(numbers)"
   ]
  },
  {
   "cell_type": "code",
   "execution_count": 27,
   "metadata": {},
   "outputs": [
    {
     "name": "stdout",
     "output_type": "stream",
     "text": [
      "[19, 29, 48, 31, 13, 24, 87, 41, 88, 37, 21, 78, 3, 81, 73, 47, 79, 12, 30, 89]\n"
     ]
    }
   ],
   "source": [
    "# Convert numbers => all positives\n",
    "print(list(map(lambda n: n if n >= 0 else -n, numbers)))"
   ]
  },
  {
   "cell_type": "code",
   "execution_count": null,
   "metadata": {},
   "outputs": [],
   "source": []
  }
 ],
 "metadata": {
  "interpreter": {
   "hash": "397704579725e15f5c7cb49fe5f0341eb7531c82d19f2c29d197e8b64ab5776b"
  },
  "kernelspec": {
   "display_name": "Python 3.9.1 64-bit",
   "name": "python3"
  },
  "language_info": {
   "codemirror_mode": {
    "name": "ipython",
    "version": 3
   },
   "file_extension": ".py",
   "mimetype": "text/x-python",
   "name": "python",
   "nbconvert_exporter": "python",
   "pygments_lexer": "ipython3",
   "version": "3.9.1"
  },
  "orig_nbformat": 4
 },
 "nbformat": 4,
 "nbformat_minor": 2
}
