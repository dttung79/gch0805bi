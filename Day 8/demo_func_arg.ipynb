{
 "cells": [
  {
   "cell_type": "code",
   "execution_count": 51,
   "metadata": {},
   "outputs": [],
   "source": [
    "def greater_than(a, b):\n",
    "    return a > b"
   ]
  },
  {
   "cell_type": "code",
   "execution_count": 6,
   "metadata": {},
   "outputs": [
    {
     "name": "stdout",
     "output_type": "stream",
     "text": [
      "No\n"
     ]
    }
   ],
   "source": [
    "if compare(\"400\", \"5\"):\n",
    "    print(\"Yes\")\n",
    "else:\n",
    "    print(\"No\")"
   ]
  },
  {
   "cell_type": "code",
   "execution_count": 7,
   "metadata": {},
   "outputs": [],
   "source": [
    "def my_min(collection):\n",
    "    if len(collection) == 0:\n",
    "        return None\n",
    "    m = collection[0]\n",
    "    for n in collection:\n",
    "        if n < m:\n",
    "            m = n\n",
    "    return m "
   ]
  },
  {
   "cell_type": "code",
   "execution_count": 8,
   "metadata": {},
   "outputs": [
    {
     "name": "stdout",
     "output_type": "stream",
     "text": [
      "Min:  1\n"
     ]
    }
   ],
   "source": [
    "numbers = [2, 5, 9, 1, 3, 10, 6]\n",
    "print('Min: ', my_min(numbers))"
   ]
  },
  {
   "cell_type": "code",
   "execution_count": 20,
   "metadata": {},
   "outputs": [],
   "source": [
    "def my_min_v2(collection, f):\n",
    "    if len(collection) == 0:\n",
    "        return None\n",
    "    m = f(collection[0])\n",
    "    pos = 0\n",
    "    for i, n in enumerate(collection):\n",
    "        if f(n) < m:\n",
    "            m = f(n)\n",
    "            pos = i\n",
    "    return collection[pos], m "
   ]
  },
  {
   "cell_type": "code",
   "execution_count": 21,
   "metadata": {},
   "outputs": [],
   "source": [
    "def last_digit(n):\n",
    "    return n % 10"
   ]
  },
  {
   "cell_type": "code",
   "execution_count": 22,
   "metadata": {},
   "outputs": [
    {
     "name": "stdout",
     "output_type": "stream",
     "text": [
      "Shortest name:  ('Mike Tyson', 10)\n"
     ]
    }
   ],
   "source": [
    "names = ['John Lennon', 'Mike Tyson', 'Barrack Obama', 'Donald Trump']\n",
    "print('Shortest name: ', my_min_v2(names, len))"
   ]
  },
  {
   "cell_type": "code",
   "execution_count": 37,
   "metadata": {},
   "outputs": [
    {
     "name": "stdout",
     "output_type": "stream",
     "text": [
      "[949, 793, 908, 398, 72, 859, 183, 438, 285, 565]\n",
      "Min of last digit: (72, 2)\n"
     ]
    }
   ],
   "source": [
    "import random as rd\n",
    "numbers = rd.sample(range(10, 1000), 10)\n",
    "print(numbers)\n",
    "print('Min of last digit:', my_min_v2(numbers, last_digit))"
   ]
  },
  {
   "cell_type": "code",
   "execution_count": 39,
   "metadata": {},
   "outputs": [],
   "source": [
    "def my_min_v3(collection, f, compare):\n",
    "    if len(collection) == 0:\n",
    "        return None\n",
    "    m = f(collection[0])\n",
    "    pos = 0\n",
    "    for i, n in enumerate(collection):\n",
    "        if compare(f(n), m):\n",
    "            m = f(n)\n",
    "            pos = i\n",
    "    return collection[pos], m "
   ]
  },
  {
   "cell_type": "code",
   "execution_count": 42,
   "metadata": {},
   "outputs": [],
   "source": [
    "def identity(n):\n",
    "    return n"
   ]
  },
  {
   "cell_type": "code",
   "execution_count": 48,
   "metadata": {},
   "outputs": [],
   "source": [
    "def less_than(a, b):\n",
    "    return a < b"
   ]
  },
  {
   "cell_type": "code",
   "execution_count": null,
   "metadata": {},
   "outputs": [],
   "source": [
    "numbers = rd.sample(range(10, 1000), 10)\n",
    "print(numbers)\n",
    "m, _ = my_min_v3(numbers, identity, greater_than)\n",
    "print('Max numbers: ', m)\n",
    "\n",
    "m, _ = my_min_v3(numbers, identity, less_than)\n",
    "print('Min numbers:', m)\n",
    "\n",
    "m, _ = my_min_v3(numbers, last_digit, greater_than)\n",
    "print('Max of last digits:', m)\n",
    "\n",
    "m, _ = my_min_v3(numbers, last_digit, less_than)\n",
    "print('Min of last digits:', m)\n"
   ]
  },
  {
   "cell_type": "code",
   "execution_count": null,
   "metadata": {},
   "outputs": [],
   "source": [
    "name, _ = my_min_v3(names, identity, greater_than)\n",
    "print('Max alphabet names:', name)\n",
    "\n",
    "name, _ = my_min_v3(names, len, greater_than)\n",
    "print('Max length names:', name)\n",
    "name, _ = my_min_v3(names, len, less_than)\n",
    "print('Min length names:', name)"
   ]
  }
 ],
 "metadata": {
  "interpreter": {
   "hash": "397704579725e15f5c7cb49fe5f0341eb7531c82d19f2c29d197e8b64ab5776b"
  },
  "kernelspec": {
   "display_name": "Python 3.9.1 64-bit",
   "name": "python3"
  },
  "language_info": {
   "codemirror_mode": {
    "name": "ipython",
    "version": 3
   },
   "file_extension": ".py",
   "mimetype": "text/x-python",
   "name": "python",
   "nbconvert_exporter": "python",
   "pygments_lexer": "ipython3",
   "version": "3.9.1"
  },
  "orig_nbformat": 4
 },
 "nbformat": 4,
 "nbformat_minor": 2
}
