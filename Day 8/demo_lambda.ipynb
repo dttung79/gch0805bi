{
 "cells": [
  {
   "cell_type": "code",
   "execution_count": 2,
   "metadata": {},
   "outputs": [
    {
     "name": "stdout",
     "output_type": "stream",
     "text": [
      "Sum of 3 numbers: 15\n"
     ]
    }
   ],
   "source": [
    "x = int(input('Enter x: '))\n",
    "y = int(input('Enter y: '))\n",
    "z = int(input('Enter z: '))\n",
    "\n",
    "print('Sum of 3 numbers:', (lambda x, y, z: x + y + z)(x, y, z))"
   ]
  },
  {
   "cell_type": "code",
   "execution_count": 3,
   "metadata": {},
   "outputs": [
    {
     "name": "stdout",
     "output_type": "stream",
     "text": [
      "16\n"
     ]
    }
   ],
   "source": [
    "square = lambda x: x**2\n",
    "print(square(4))"
   ]
  },
  {
   "cell_type": "code",
   "execution_count": 4,
   "metadata": {},
   "outputs": [],
   "source": [
    "def my_min_v3(collection, f, compare):\n",
    "    if len(collection) == 0:\n",
    "        return None\n",
    "    m = f(collection[0])\n",
    "    pos = 0\n",
    "    for i, n in enumerate(collection):\n",
    "        if compare(f(n), m):\n",
    "            m = f(n)\n",
    "            pos = i\n",
    "    return collection[pos], m "
   ]
  },
  {
   "cell_type": "code",
   "execution_count": 5,
   "metadata": {},
   "outputs": [
    {
     "name": "stdout",
     "output_type": "stream",
     "text": [
      "[39, 59, 20, 53, 93, 13, 33, 95, 45, 56]\n"
     ]
    }
   ],
   "source": [
    "import random as rd\n",
    "numbers = rd.sample(range(10, 100), 10)\n",
    "print(numbers)"
   ]
  },
  {
   "cell_type": "code",
   "execution_count": 8,
   "metadata": {},
   "outputs": [
    {
     "name": "stdout",
     "output_type": "stream",
     "text": [
      "Min numbers: 13\n"
     ]
    }
   ],
   "source": [
    "# Find min\n",
    "m, _ = my_min_v3(numbers, lambda n: n, lambda a, b: a < b)\n",
    "print('Min numbers:', m)"
   ]
  },
  {
   "cell_type": "code",
   "execution_count": 9,
   "metadata": {},
   "outputs": [
    {
     "name": "stdout",
     "output_type": "stream",
     "text": [
      "Max numbers: 95\n"
     ]
    }
   ],
   "source": [
    "# Find max\n",
    "m, _ = my_min_v3(numbers, lambda n: n, lambda a, b: a > b)\n",
    "print('Max numbers:', m)"
   ]
  },
  {
   "cell_type": "code",
   "execution_count": null,
   "metadata": {},
   "outputs": [],
   "source": [
    "names = ['Nguyen', 'Ha Minh Lam', 'Le Ngoc', 'Ho Nguyen Khai Minh']\n",
    "# Find longest name, shortest name\n",
    "# Find name which has least , most words"
   ]
  }
 ],
 "metadata": {
  "interpreter": {
   "hash": "397704579725e15f5c7cb49fe5f0341eb7531c82d19f2c29d197e8b64ab5776b"
  },
  "kernelspec": {
   "display_name": "Python 3.9.1 64-bit",
   "name": "python3"
  },
  "language_info": {
   "codemirror_mode": {
    "name": "ipython",
    "version": 3
   },
   "file_extension": ".py",
   "mimetype": "text/x-python",
   "name": "python",
   "nbconvert_exporter": "python",
   "pygments_lexer": "ipython3",
   "version": "3.9.1"
  },
  "orig_nbformat": 4
 },
 "nbformat": 4,
 "nbformat_minor": 2
}
