{
 "cells": [
  {
   "cell_type": "code",
   "execution_count": 2,
   "source": [
    "import random as rd \n",
    "numbers = rd.sample(range(100), 20)\n",
    "print(numbers, type(numbers))"
   ],
   "outputs": [
    {
     "output_type": "stream",
     "name": "stdout",
     "text": [
      "[96, 76, 94, 35, 9, 67, 0, 48, 2, 8, 41, 56, 24, 22, 92, 99, 38, 11, 81, 40] <class 'list'>\n"
     ]
    }
   ],
   "metadata": {}
  },
  {
   "cell_type": "code",
   "execution_count": 3,
   "source": [
    "# Q.a\n",
    "big50 = [n for n in numbers if n > 50] # numbers[numbers > 50] -> only for array\n",
    "print(big50)"
   ],
   "outputs": [
    {
     "output_type": "stream",
     "name": "stdout",
     "text": [
      "[96, 76, 94, 67, 56, 92, 99, 81]\n"
     ]
    }
   ],
   "metadata": {}
  },
  {
   "cell_type": "code",
   "execution_count": 4,
   "source": [
    "# Q.b\n",
    "m = sum(numbers) / len(numbers)\n",
    "bigMean = [n for n in numbers if n > m]\n",
    "print(m, bigMean)"
   ],
   "outputs": [
    {
     "output_type": "stream",
     "name": "stdout",
     "text": [
      "46.95 [96, 76, 94, 67, 48, 56, 92, 99, 81]\n"
     ]
    }
   ],
   "metadata": {}
  },
  {
   "cell_type": "code",
   "execution_count": 6,
   "source": [
    "# Q.c\n",
    "evens = [n for n in numbers if n % 2 == 0] # numbers[numbers % 2 == 0] -> ONLY for array\n",
    "print(evens)\n",
    "odds = [n for n in numbers if n % 2 != 0] # numbers[numbers % 2 == 0] -> ONLY for array\n",
    "print(odds)\n",
    "numbers= evens + odds # Q.d\n",
    "print(numbers)"
   ],
   "outputs": [
    {
     "output_type": "stream",
     "name": "stdout",
     "text": [
      "[96, 76, 94, 0, 48, 2, 8, 56, 24, 22, 92, 38, 40]\n",
      "[35, 9, 67, 41, 99, 11, 81]\n",
      "[96, 76, 94, 0, 48, 2, 8, 56, 24, 22, 92, 38, 40, 35, 9, 67, 41, 99, 11, 81]\n"
     ]
    }
   ],
   "metadata": {}
  },
  {
   "cell_type": "code",
   "execution_count": 7,
   "source": [
    "# Q.e\n",
    "print(numbers[::2])"
   ],
   "outputs": [
    {
     "output_type": "stream",
     "name": "stdout",
     "text": [
      "[96, 94, 48, 8, 24, 92, 40, 9, 41, 11]\n"
     ]
    }
   ],
   "metadata": {}
  }
 ],
 "metadata": {
  "orig_nbformat": 4,
  "language_info": {
   "name": "python",
   "version": "3.9.1",
   "mimetype": "text/x-python",
   "codemirror_mode": {
    "name": "ipython",
    "version": 3
   },
   "pygments_lexer": "ipython3",
   "nbconvert_exporter": "python",
   "file_extension": ".py"
  },
  "kernelspec": {
   "name": "python3",
   "display_name": "Python 3.9.1 64-bit"
  },
  "interpreter": {
   "hash": "397704579725e15f5c7cb49fe5f0341eb7531c82d19f2c29d197e8b64ab5776b"
  }
 },
 "nbformat": 4,
 "nbformat_minor": 2
}