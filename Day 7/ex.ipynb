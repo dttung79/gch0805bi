{
 "cells": [
  {
   "cell_type": "code",
   "execution_count": 5,
   "source": [
    "students = {'vuong': 8.0, 'vu': 2.5, 'van': 5.5, 'duc': 9.0, 'binh': 9.0, 'linh': 8.5}\n",
    "\n",
    "distinctions = [student for student, gpa in students.items() if gpa > 8.0]\n",
    "print(distinctions, len(distinctions))\n",
    "\n",
    "merits = [student for student, gpa in students.items() if 8.0 >= gpa >= 6.5]\n",
    "print(merits, len(merits))\n",
    "\n",
    "passes = [student for student, gpa in students.items() if 6.5 > gpa >= 4.0]\n",
    "print(passes, len(passes))"
   ],
   "outputs": [
    {
     "output_type": "stream",
     "name": "stdout",
     "text": [
      "['duc', 'binh', 'linh'] 3\n",
      "['vuong'] 1\n",
      "['van'] 1\n"
     ]
    }
   ],
   "metadata": {}
  },
  {
   "cell_type": "code",
   "execution_count": 6,
   "source": [
    "pass_rate = (len(distinctions) + len(merits) + len(passes)) / len(students) * 100.0\n",
    "print('Pass rate: {0:.2f}'.format(pass_rate))"
   ],
   "outputs": [
    {
     "output_type": "stream",
     "name": "stdout",
     "text": [
      "Pass rate: 83.33\n"
     ]
    }
   ],
   "metadata": {}
  },
  {
   "cell_type": "code",
   "execution_count": 15,
   "source": [
    "# Q. 33\n",
    "# Traditional way\n",
    "max_gpa = max(students.values())\n",
    "print('Best students:', end=' ')\n",
    "for s, gpa in students.items():\n",
    "    if gpa == max_gpa:\n",
    "        print(s, end=' ')"
   ],
   "outputs": [
    {
     "output_type": "stream",
     "name": "stdout",
     "text": [
      "Best students: duc binh "
     ]
    }
   ],
   "metadata": {}
  },
  {
   "cell_type": "code",
   "execution_count": 10,
   "source": [
    "# max_gpa = max([gpa for s, gpa in students.items()])\n",
    "max_gpa = max(students.values())\n",
    "best_students = [s for s, gpa in students.items() if gpa == max_gpa]\n",
    "print('Best students:', best_students)"
   ],
   "outputs": [
    {
     "output_type": "stream",
     "name": "stdout",
     "text": [
      "Best students: ['duc', 'binh']\n"
     ]
    }
   ],
   "metadata": {}
  },
  {
   "cell_type": "code",
   "execution_count": 11,
   "source": [
    "best_students = [s for s, gpa in students.items() if gpa == max(students.values())]\n",
    "print(best_students)"
   ],
   "outputs": [
    {
     "output_type": "stream",
     "name": "stdout",
     "text": [
      "['duc', 'binh']\n"
     ]
    }
   ],
   "metadata": {}
  }
 ],
 "metadata": {
  "orig_nbformat": 4,
  "language_info": {
   "name": "python",
   "version": "3.9.1",
   "mimetype": "text/x-python",
   "codemirror_mode": {
    "name": "ipython",
    "version": 3
   },
   "pygments_lexer": "ipython3",
   "nbconvert_exporter": "python",
   "file_extension": ".py"
  },
  "kernelspec": {
   "name": "python3",
   "display_name": "Python 3.9.1 64-bit"
  },
  "interpreter": {
   "hash": "397704579725e15f5c7cb49fe5f0341eb7531c82d19f2c29d197e8b64ab5776b"
  }
 },
 "nbformat": 4,
 "nbformat_minor": 2
}