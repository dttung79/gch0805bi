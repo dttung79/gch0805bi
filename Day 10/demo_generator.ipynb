{
 "cells": [
  {
   "cell_type": "code",
   "execution_count": 1,
   "metadata": {},
   "outputs": [
    {
     "name": "stdout",
     "output_type": "stream",
     "text": [
      "[-19, 14, -96, -11, -69, 60, 23, -61, -99, -68, 7, 75, 92, 74, -98, 19, 57, 84, 77, -46]\n"
     ]
    }
   ],
   "source": [
    "import random as rd \n",
    "numbers = rd.sample(range(-100, 101), 20)\n",
    "print(numbers)"
   ]
  },
  {
   "cell_type": "code",
   "execution_count": 14,
   "metadata": {},
   "outputs": [
    {
     "name": "stdout",
     "output_type": "stream",
     "text": [
      "1st\n",
      "14 60 23 7 75 92 74 19 57 84 77 \n",
      "Sum:  0\n"
     ]
    }
   ],
   "source": [
    "# C1 filter\n",
    "positives = (filter(lambda a: a > 0, numbers))\n",
    "print(\"1st\")\n",
    "for n in positives:\n",
    "    print(n, end=' ')\n",
    "print('\\nSum: ', sum(positives))"
   ]
  },
  {
   "cell_type": "code",
   "execution_count": 12,
   "metadata": {},
   "outputs": [
    {
     "name": "stdout",
     "output_type": "stream",
     "text": [
      "[14, 60, 23, 7, 75, 92, 74, 19, 57, 84, 77]\n",
      "582\n"
     ]
    }
   ],
   "source": [
    "# C2 list comprehension\n",
    "positives = [n for n in numbers if n > 0]\n",
    "print(positives)\n",
    "print(sum(positives))"
   ]
  },
  {
   "cell_type": "code",
   "execution_count": 4,
   "metadata": {},
   "outputs": [
    {
     "name": "stdout",
     "output_type": "stream",
     "text": [
      "Sum positives: 582\n",
      "Sum positives: 582\n"
     ]
    }
   ],
   "source": [
    "# Calculate sum of positives in numbers\n",
    "# C1 filter\n",
    "s = sum(filter(lambda a: a > 0, numbers)) # Speed: O(n), Memory: O(1)\n",
    "print('Sum positives:', s)\n",
    "s = sum([n for n in numbers if n > 0])    # Speed: O(n), Memory: O(m) m < n\n",
    "print('Sum positives:', s)"
   ]
  }
 ],
 "metadata": {
  "interpreter": {
   "hash": "397704579725e15f5c7cb49fe5f0341eb7531c82d19f2c29d197e8b64ab5776b"
  },
  "kernelspec": {
   "display_name": "Python 3.9.1 64-bit",
   "name": "python3"
  },
  "language_info": {
   "codemirror_mode": {
    "name": "ipython",
    "version": 3
   },
   "file_extension": ".py",
   "mimetype": "text/x-python",
   "name": "python",
   "nbconvert_exporter": "python",
   "pygments_lexer": "ipython3",
   "version": "3.9.1"
  },
  "orig_nbformat": 4
 },
 "nbformat": 4,
 "nbformat_minor": 2
}
