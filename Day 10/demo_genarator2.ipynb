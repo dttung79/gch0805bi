{
 "cells": [
  {
   "cell_type": "code",
   "execution_count": 5,
   "metadata": {},
   "outputs": [
    {
     "name": "stdout",
     "output_type": "stream",
     "text": [
      "[1, 4, 9, 16]\n",
      "Sum squares: 30\n"
     ]
    }
   ],
   "source": [
    "numbers = [1, 2, 3, 4]\n",
    "# Print square numbers\n",
    "# C1: list comprehension\n",
    "squares = [n**2 for n in numbers]\n",
    "print(squares)\n",
    "print('Sum squares:', sum(squares))"
   ]
  },
  {
   "cell_type": "code",
   "execution_count": 2,
   "metadata": {},
   "outputs": [
    {
     "name": "stdout",
     "output_type": "stream",
     "text": [
      "1 4 9 16 "
     ]
    }
   ],
   "source": [
    "# C2: map\n",
    "squares = map(lambda n: n**2, numbers)\n",
    "for n in squares:\n",
    "    print(n, end=' ')"
   ]
  },
  {
   "cell_type": "code",
   "execution_count": 7,
   "metadata": {},
   "outputs": [
    {
     "name": "stdout",
     "output_type": "stream",
     "text": [
      "1 4 9 16 \n",
      "Sum squares: 0\n"
     ]
    }
   ],
   "source": [
    "# C3: user-defined generator\n",
    "squares = (n**2 for n in numbers)\n",
    "for n in squares:\n",
    "    print(n, end=' ')\n",
    "print('\\nSum squares:', sum(squares))"
   ]
  },
  {
   "cell_type": "code",
   "execution_count": 14,
   "metadata": {},
   "outputs": [
    {
     "name": "stdout",
     "output_type": "stream",
     "text": [
      "[39, -21, 17, 55, 78, 67, -60, 9, 16, -64, -23, 4, -41, 46, 88, 86, 99, -29, -68, -56]\n",
      "-21\n",
      "78 16 4 46 88 86 \n",
      " 6\n"
     ]
    }
   ],
   "source": [
    "import random as rd \n",
    "numbers = rd.sample(range(-100, 101), 20)\n",
    "print(numbers)\n",
    "# Use generator to find max of negative numbers\n",
    "max_negatives = max(n for n in numbers if n < 0)\n",
    "print(max_negatives)\n",
    "# Use generator to find how many even positive numbers\n",
    "even_positives = (n for n in numbers if n > 0 and n%2 == 0)\n",
    "count = 0\n",
    "for x in even_positives:\n",
    "    print(x, end=' ')\n",
    "    count = count + 1\n",
    "\n",
    "print('\\n', count)"
   ]
  },
  {
   "cell_type": "code",
   "execution_count": 15,
   "metadata": {},
   "outputs": [
    {
     "name": "stdout",
     "output_type": "stream",
     "text": [
      "Number of even positives: 6\n"
     ]
    }
   ],
   "source": [
    "print('Number of even positives:', sum(1 for n in numbers if n>0 and n%2==0))"
   ]
  },
  {
   "cell_type": "code",
   "execution_count": 18,
   "metadata": {},
   "outputs": [
    {
     "name": "stdout",
     "output_type": "stream",
     "text": [
      "Total amount: 90.0\n",
      "Total amount: 90.0\n"
     ]
    }
   ],
   "source": [
    "pizzas = [['john', '10:05', 4], ['paul', '12:05', 6], ['mike', '9:15', 8]]\n",
    "# Calculate total amount (#price = 5.0)\n",
    "# Traditional way\n",
    "price = 5.0\n",
    "total = 0\n",
    "for row in pizzas:\n",
    "    total += price * row[2]\n",
    "print('Total amount:', total)\n",
    "# Generator pipelines\n",
    "number_pizzas = (row[2] for row in pizzas) # 4, 6, 8\n",
    "prices = (price * n for n in number_pizzas) # 20.0 30.0 40.0\n",
    "print('Total amount:', sum(prices))"
   ]
  }
 ],
 "metadata": {
  "interpreter": {
   "hash": "397704579725e15f5c7cb49fe5f0341eb7531c82d19f2c29d197e8b64ab5776b"
  },
  "kernelspec": {
   "display_name": "Python 3.9.1 64-bit",
   "name": "python3"
  },
  "language_info": {
   "codemirror_mode": {
    "name": "ipython",
    "version": 3
   },
   "file_extension": ".py",
   "mimetype": "text/x-python",
   "name": "python",
   "nbconvert_exporter": "python",
   "pygments_lexer": "ipython3",
   "version": "3.9.1"
  },
  "orig_nbformat": 4
 },
 "nbformat": 4,
 "nbformat_minor": 2
}
